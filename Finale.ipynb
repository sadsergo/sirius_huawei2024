{
 "cells": [
  {
   "cell_type": "markdown",
   "metadata": {},
   "source": [
    "$${\\bf Восстановление\\spaceполя\\spaceна\\spaceзаданной\\spaceповерхности\\spaceпо\\spaceизмереням\\spaceдальнего\\spaceполя}$$"
   ]
  },
  {
   "cell_type": "markdown",
   "metadata": {},
   "source": [
    "Пусть у нас имеются измерения поля на некоторой поверхности $\\Sigma_M$, а также есть поверхность объема, содержащего внутри себя антенну, $\\Sigma_R$. В этой области имеются неокторые источники токов $J$, $M$, по теорема эквивалентности, поле на поверхности $\\Sigma_R$:$$E(J,M)=E(J_{eq}, M_{eq})$$ а вне ее $$E(J_{eq}, M_{eq})= 0$$\n",
    "Удалим антенну и все источники, тогда задача относительно эквивалентных токов примет следующий вид:\n",
    "\n",
    "Уравнение на поверхности, где произведены измерения $$ n\\times E(r)= n\\times[-\\eta_0 L(J_{eq}, r) + K(M_{eq}, r)], r\\in\\Sigma_M $$\n",
    "\n",
    "Уравнение на поверхности $\\Sigma_R$ : $$ n\\times[-\\eta_0L(J_{eq},r)+K(M_{eq},r)]=-\\frac{1}{2}M_{eq}(r), r\\in \\Sigma_R$$\n",
    "\n",
    "где $L(\\cdot)$ и $M(\\cdot)$ соответствующие операторы интегрального представления электрического поля:\n",
    "$$ L(J_{eq}, r)=\\int_\\Sigma \\{\\nabla \\nabla'[J_{eq}G(r,r')]+k^2 J_{eq}G(r,r')\\}dS' $$\n",
    "$$ K(M_{eq}, r)=\\int_\\Sigma\\{M_{eq}\\times\\nabla'G(r,r')\\}dS'$$\n",
    "\n",
    "\n",
    "\n",
    "Используя базисные функции RWG - $f_n$, искомые токи представим в виде $J_{eq} = \\sum_{n=1}^N C_n^J f_n$ и $M_{eq} = \\sum_{n=1}^N C_n^M f_n$. Применяя метод Галеркина, получим систему уравнений:\n",
    "$$\\begin{bmatrix}\n",
    "-L_{MR}&\\space\\space -K_{MR} \\\\\n",
    "-L_{RR}&\\space\\space K_{RR}+0.5I_{RR}\n",
    "\\end{bmatrix} \n",
    "\\begin{bmatrix}\n",
    "C^J\\\\\n",
    "C^M\n",
    "\\end{bmatrix}=\n",
    "\\begin{bmatrix}\n",
    "E_m\\\\\n",
    "0\n",
    "\\end{bmatrix}\n",
    "\\hspace{3cm} [1]$$\n",
    "где $E_m$ измерения дальнего поля, индексы блоков означают проекции операторов на соответствующие пространства: SR - RWG на пространство измерений, RR - RWG на пространство тестовых функций"
   ]
  },
  {
   "cell_type": "markdown",
   "metadata": {},
   "source": [
    "$${\\bf Постановка\\spaceзадачи}$$"
   ]
  },
  {
   "cell_type": "markdown",
   "metadata": {},
   "source": [
    "Имеется измерения дальнего поля антенны на сфере радиусом 1 км на частоте $0.7$ GHz. Требуется восстановить поле, излучаемое данной антенной на сфере радиусом 1 м.\n",
    "\n",
    "Для дискретизации поставленной задачи используется BEMPP (https://bempp.com/handbook/api/boundary_operators.html). Здесь есть все необходимые операторы и базисные функции.\n",
    "Обратим внимание, что количество измерений не совпадает с количеством ребер на сетке, заданной на поверхности, где требуется восстановление. Тогда для нахождения обратной матрицы системы воспользуемся методом наименьших квадратов, а для улучшения обусловленности матрицы - регуляризацией Тихонова.\n",
    "Полученные коэффициенты - коэффициенты разложения искомых токов по базисным функциям: $J_{eq_n} = \\sum_n C_n f_n$, следовательно восстановить поле можно по формуле: $ E_t = M_{eq}\\times n$\n",
    "\n",
    "(https://bempp-cl.readthedocs.io/en/latest/docs/bempp/api/)"
   ]
  },
  {
   "cell_type": "markdown",
   "metadata": {},
   "source": [
    "Для начала работы установите следующие пакеты:"
   ]
  },
  {
   "cell_type": "code",
   "execution_count": null,
   "metadata": {},
   "outputs": [],
   "source": [
    "import numpy as np\n",
    "import matplotlib.pyplot as plt\n",
    "import bempp.api\n",
    "import matplotlib as mpl\n",
    "import plotly.figure_factory as ff\n",
    "import plotly.graph_objects as go\n",
    "import pandas as pd"
   ]
  },
  {
   "cell_type": "markdown",
   "metadata": {},
   "source": [
    "Понадобятся следющие константы:"
   ]
  },
  {
   "cell_type": "code",
   "execution_count": null,
   "metadata": {},
   "outputs": [],
   "source": [
    "frequency = 0.7 * 10**9 \n",
    "vacuum_permittivity = 8.854187817E-12\n",
    "vacuum_permeability = 4 * np.pi * 1E-7\n",
    "k_ext = 2 * np.pi * frequency * np.sqrt(vacuum_permittivity * vacuum_permeability)\n",
    "wave_length = 2 * np.pi / k_ext\n",
    "coef = np.sqrt(vacuum_permeability / vacuum_permittivity)"
   ]
  },
  {
   "cell_type": "markdown",
   "metadata": {},
   "source": [
    "Для составления блоков матрицы системы $[1]$ понадобится вспомогательная функция, вычсиляющая блок матрицы, соответствующий потенциальному оператору, по сеточной функции:"
   ]
  },
  {
   "cell_type": "code",
   "execution_count": null,
   "metadata": {},
   "outputs": [],
   "source": [
    "#  pot_op - потенциальный оператор bempp\n",
    "#  field_mat - матрица, вычсиляемая путем применения оператора к сеточной функции\n",
    "def get_mat(pot_op):\n",
    "    space = pot_op.space\n",
    "    field_mat = []\n",
    "    for i in range(space.global_dof_count):\n",
    "        coef = np.zeros(space.global_dof_count)\n",
    "        coef[i] = 1\n",
    "        field = pot_op * bempp.api.GridFunction(space, coefficients=coef)\n",
    "        field_vec = field.flatten(order='F')\n",
    "        field_mat.append(field_vec[:, None])\n",
    "        \n",
    "    field_mat = np.hstack(field_mat)\n",
    "    \n",
    "    return field_mat"
   ]
  },
  {
   "cell_type": "markdown",
   "metadata": {},
   "source": [
    "$${\\bf План\\space выполнения}$$\n",
    "Предлагается написать метод, выполняющий восстановление поля на поверхности <span style=\"color:green\">def</span> <span style=\"color:blue\">current_reconstruction</span>(*) $[2]$, принимающий на вход:\n",
    "1. файл с сеткой, файл из измерениями дальнего поля\n",
    "2. волновое число\n",
    "3. параметр для регуляризации,\n",
    "\n",
    "а на выходе:\n",
    "1. координаты центров элементов сетки, на котрой произведено восстановление\n",
    "2. компоненты нормали\n",
    "3. реальная часть компонент поля Е\n",
    "4. мнимая часть компонент поля Е\n"
   ]
  },
  {
   "cell_type": "markdown",
   "metadata": {},
   "source": [
    "Для удобства будем использовать шаблон класса, в котором необходимо дописать некотрые методы:"
   ]
  },
  {
   "cell_type": "code",
   "execution_count": 19,
   "metadata": {},
   "outputs": [],
   "source": [
    "# Bempp import boundary conditions\n",
    "from bempp.api.operators.potential import maxwell as maxwell_potential\n",
    "from bempp.api.operators.boundary import maxwell as maxwell_boundary\n",
    "\n",
    "\n",
    "# Шаблон класса и его методы\n",
    "class Current_reconstruction_class:\n",
    "    def __init__(self, wave_number):\n",
    "        self.wave_number = wave_number\n",
    "        \n",
    "    #Определение пространств базисных и тестовых функций на сетке, где требуется восстановление:\n",
    "    def set_reconstruction_grid(self, grid):\n",
    "        self.reconstr_grid = grid\n",
    "        self.reconstr_RWG = bempp.api.function_space(self.reconstr_grid, \"RWG\", 0) # div_space\n",
    "        self.reconstr_SNC = bempp.api.function_space(self.reconstr_grid, \"SNC\", 0) # curl_space\n",
    "        \n",
    "    #Определение начальных данных: значения известного дальнего поля и точек, в которых оно было измерено:\n",
    "    def set_measured_field(self, points, electric_field):\n",
    "        self.measur_efield = electric_field\n",
    "        self.measur_points = points \n",
    "        \n",
    "    #Cборка правой части системы:\n",
    "    def assemble_rhs(self):\n",
    "        RHS = np.concatenate([\n",
    "            self.measur_efield.flatten(order='F'), \n",
    "            np.zeros(self.reconstr_SNC.global_dof_count)\n",
    "        ])\n",
    "        self.rhs = RHS\n",
    "        \n",
    "    #Сборка левой части системы $[1]$. Допишите функцию с помощью операторов Bempp:\n",
    "    def assemble_matrix(self, correction=True):\n",
    "        # Eto bolshaya setka\n",
    "        L_SR = maxwell_potential.electric_field(self.reconstr_RWG, \n",
    "                                      points=self.measur_points, \n",
    "                                      wavenumber=self.wave_number, \n",
    "                                      parameters=None, assembler='dense', device_interface=None, precision=None)\n",
    "        K_SR = maxwell_potential.magnetic_field(self.reconstr_RWG,\n",
    "                                      points=self.measur_points,\n",
    "                                      wavenumber=self.wave_number,\n",
    "                                      parameters=None, assembler='dense', device_interface=None, precision=None)\n",
    "        L_SR_mat = get_mat(L_SR) # Убрали волновое число для проверки\n",
    "        K_SR_mat = get_mat(K_SR)\n",
    "        \n",
    "        # Eto malenkaya setka, boundary_operator\n",
    "        L_RR = maxwell_boundary.electric_field(self.reconstr_RWG,\n",
    "                                               self.reconstr_RWG,\n",
    "                                               self.reconstr_SNC,\n",
    "                                               wavenumber=self.wave_number,\n",
    "                                               parameters=None, assembler='dense', device_interface=None, precision=None).weak_form()\n",
    "        K_RR = maxwell_boundary.magnetic_field(self.reconstr_RWG, \n",
    "                                               self.reconstr_RWG,\n",
    "                                               self.reconstr_SNC,\n",
    "                                               wavenumber=self.wave_number,\n",
    "                                               parameters=None, assembler='dense', device_interface=None, precision=None).weak_form()\n",
    "        L_RR_mat = L_RR.A\n",
    "        K_RR_mat = K_RR.A\n",
    "        I = bempp.api.operators.boundary.sparse.identity(self.reconstr_RWG, self.reconstr_RWG, self.reconstr_SNC).weak_form().A\n",
    "        K_RR_mat += 0.5*I\n",
    "        \n",
    "        self.res_mat = coef * np.hstack((np.vstack((L_SR_mat,L_RR_mat)),np.vstack((K_SR_mat,K_RR_mat))))\n",
    "        \n",
    "    #Нахождение решения системы методом наименьших квадратов с регуляризацией Тихонова. Допишите метод.\n",
    "    def reconstruct_currents(self, method=\"Least Squares\", Tikhonov_reg=0.0,log=0):\n",
    "        n = self.res_mat.shape[1]\n",
    "        reg_matrix = np.vstack((self.res_mat, Tikhonov_reg * np.eye(n)))\n",
    "        reg_b = np.hstack((self.rhs, np.zeros(n)))\n",
    "        x = np.linalg.lstsq(reg_matrix, reg_b,rcond=None)\n",
    "        return x[0]\n",
    "    \n",
    "    #Вычисление тангенциальных составляющих полей. Функция вовзращает центры элементов, нормали,E_t, H_t.\n",
    "    #Допишите метод, используя методы класса GridFunction из Bempp:\n",
    "    def evaluate_tangential_trace_on_element_centers(self):\n",
    "        coeff = np.sqrt(vacuum_permeability / vacuum_permittivity)\n",
    "        centers = self.reconstr_grid.centroids\n",
    "        normals = self.reconstr_grid.normals\n",
    "        M_trace = 0\n",
    "        E_trace = 0\n",
    "        return centers, normals, E_trace, M_trace\n",
    "    \n",
    "    def sphere_img(self,E_t):\n",
    "        dp0_space = bempp.api.function_space(self.reconstr_grid, \"DP\", 0)\n",
    "        E_finale = np.asarray([np.sqrt(e[0]*e[0]+e[1]*e[1]+e[2]*e[2]) for e in E_t])\n",
    "        reference_fun = bempp.api.GridFunction(dp0_space, coefficients=abs(E_finale))\n",
    "        self.FINALE = E_finale\n",
    "        reference_fun.plot()\n",
    "\n",
    "    #Метод, использующий внутри себя все описанные выше функции (детали см. в План выполнения).\n",
    "    #В качестве параметра регуляризации возьмите 0.001. Допишите метод: \n",
    "    def current_reconstruction(self,grid_filename, data_filename, result_filename, k_ext, reg_parameter=1e-3):\n",
    "            # Load grid (outer)\n",
    "            print(\"1 : \", grid_filename, ' ', type(grid_filename))\n",
    "            grid = bempp.api.import_grid(grid_filename)\n",
    "            print(\"TUTA\")\n",
    "            # Get values from outer sphere\n",
    "            df = pd.read_csv(data_filename,sep=' ', header=None)\n",
    "            b = df.iloc[:,:3]\n",
    "            outer_points = b.values\n",
    "            outer_points.shape\n",
    "            outer_points = outer_points.T\n",
    "            outer_values = df.iloc[:,3:6].values + 1j*df.iloc[:,6:].values\n",
    "            outer_values = outer_values.T\n",
    "\n",
    "            # Set grid\n",
    "            self.set_reconstruction_grid(grid)\n",
    "            print(f'STEP GRID: PASSED')\n",
    "            # Set field\n",
    "            self.set_measured_field(outer_points,outer_values)\n",
    "            print(f'STEP FIELD: PASSED') \n",
    "            # Construct matrix\n",
    "            self.assemble_matrix()\n",
    "            print(f'STEP CONSTRUCT MATRIX: PASSED') \n",
    "            # Construct RHS\n",
    "            self.assemble_rhs()\n",
    "            print(f'STEP CONSTRUCT RHS: PASSED')\n",
    "\n",
    "            # Reconstruct currents\n",
    "            result = self.reconstruct_currents(Tikhonov_reg=reg_parameter)\n",
    "            print('L2-norm:\\t',np.linalg.norm(self.res_mat.dot(result) - self.rhs))\n",
    "            print(f'STEP CALCULATE NORM: PASSED')\n",
    "\n",
    "            # Split result vector into Cj Cm\n",
    "            C_J = result[:result.shape[0]//2]\n",
    "            C_M = result[result.shape[0]//2:]\n",
    "            print(f'STEP FINDING COEFFS: PASSED')\n",
    "\n",
    "            # Finding J_eq, M_eq\n",
    "            J_eq = bempp.api.GridFunction(self.reconstr_RWG,dual_space=self.reconstr_SNC,coefficients=C_J)\n",
    "            M_eq = bempp.api.GridFunction(self.reconstr_RWG,dual_space=self.reconstr_SNC,coefficients=C_M)\n",
    "            print(f'SETTING J_EQ,M_EQ: PASSED')\n",
    "\n",
    "            # Finding E_t\n",
    "            normals = self.reconstr_grid.normals\n",
    "            M_eq_centers = M_eq.evaluate_on_element_centers().T \n",
    "            E_t = np.cross(normals,M_eq_centers)\n",
    "            print(f'FINDING E_T: PASSED')\n",
    "            # Graph img\n",
    "            self.sphere_img(E_t)"
   ]
  },
  {
   "cell_type": "code",
   "execution_count": 20,
   "metadata": {},
   "outputs": [
    {
     "name": "stdout",
     "output_type": "stream",
     "text": [
      "1 :  Sphere_1m/Sphere_1m_1269edges.msh   <class 'str'>\n",
      "\n",
      "TUTA\n",
      "STEP GRID: PASSED\n",
      "STEP FIELD: PASSED\n",
      "STEP CONSTRUCT MATRIX: PASSED\n",
      "STEP CONSTRUCT RHS: PASSED\n"
     ]
    }
   ],
   "source": [
    "# Основной блок, сфера\n",
    "GRID_PATH = 'Sphere_1m/Sphere_1m_1269edges.msh'\n",
    "DATA_PATH = './Sphere_1m/Ef_Port1_0_7GHz_Sphere_1km.csv'\n",
    "SPHERE = Current_reconstruction_class(k_ext)\n",
    "SPHERE.current_reconstruction(GRID_PATH,DATA_PATH,\"dota.csv\",k_ext)"
   ]
  },
  {
   "cell_type": "markdown",
   "metadata": {},
   "source": [
    "$$\\bf Общая\\spaceструктура \\space работы$$"
   ]
  },
  {
   "cell_type": "markdown",
   "metadata": {},
   "source": [
    "Мы детально разобрали, какие методы понадобятся для решения поставленной задачи. \n",
    "Сетка, на которой требуется восстановить токи - <span style=\"color:green\">\"test_data/test_data/Sphere_R1_1269edges.msh\"</span>, измерения вы найдете в файле - <span style=\"color:green\">\"test_data/Ef_Port1_0_7GHz_Sphere_1km.csv\"</span>, и референсные значения - <span style=\"color:green\">\"test_data/Ef_Port1_0_7GHz_Sphere_1m.csv\"</span>. \n",
    "Итак, подытожим план выполнения практического задания:\n",
    "1. С помощью метода Галеркина составить систему уравнений для восстановления эквивалентных токов $J_{eq_n}, M_{eq}$ по известным измерениям $E_m$\n",
    "2. Используя операторы и пространства в Bempp (https://bempp.com/handbook/api/boundary_operators.html), собрать левую и правую части системы: <span style=\"color:blue\">assemble_matrix</span> , <span style=\"color:blue\">assemble_rhs</span>\n",
    "3. Найти обратную матрицу системы с помощью МНК и регуляризации Тихонова: <span style=\"color:blue\">reconstruct_currents</span>.\n",
    "4. По найденным коэффициентам разложения токов найти тангенциальную составляющую поля $E$ на заданной поверхности: <span style=\"color:blue\">current_reconstruction</span>\n",
    "6. Сравнить полученные результаты с референсом"
   ]
  },
  {
   "cell_type": "code",
   "execution_count": null,
   "metadata": {},
   "outputs": [],
   "source": [
    "a = Current_reconstruction_class(k_ext)\n",
    "a.assemble_matrix()"
   ]
  },
  {
   "cell_type": "code",
   "execution_count": null,
   "metadata": {},
   "outputs": [],
   "source": []
  },
  {
   "cell_type": "code",
   "execution_count": null,
   "metadata": {},
   "outputs": [],
   "source": []
  },
  {
   "cell_type": "code",
   "execution_count": null,
   "metadata": {},
   "outputs": [],
   "source": []
  }
 ],
 "metadata": {
  "kernelspec": {
   "display_name": "Python 3",
   "language": "python",
   "name": "python3"
  },
  "language_info": {
   "codemirror_mode": {
    "name": "ipython",
    "version": 3
   },
   "file_extension": ".py",
   "mimetype": "text/x-python",
   "name": "python",
   "nbconvert_exporter": "python",
   "pygments_lexer": "ipython3",
   "version": "3.9.19"
  }
 },
 "nbformat": 4,
 "nbformat_minor": 4
}
