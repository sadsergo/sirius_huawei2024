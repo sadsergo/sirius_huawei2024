{
 "cells": [
  {
   "cell_type": "markdown",
   "metadata": {},
   "source": [
    "$${\\bf Восстановление\\spaceполя\\spaceна\\spaceзаданной\\spaceповерхности\\spaceпо\\spaceизмереням\\spaceдальнего\\spaceполя}$$"
   ]
  },
  {
   "cell_type": "markdown",
   "metadata": {},
   "source": [
    "Пусть у нас имеются измерения поля на некоторой поверхности $\\Sigma_M$, а также есть поверхность объема, содержащего внутри себя антенну, $\\Sigma_R$. В этой области имеются неокторые источники токов $J$, $M$, по теорема эквивалентности, поле на поверхности $\\Sigma_R$:$$E(J,M)=E(J_{eq}, M_{eq})$$ а вне ее $$E(J_{eq}, M_{eq})= 0$$\n",
    "Удалим антенну и все источники, тогда задача относительно эквивалентных токов примет следующий вид:\n",
    "\n",
    "Уравнение на поверхности, где произведены измерения $$ n\\times E(r)= n\\times[-\\eta_0 L(J_{eq}, r) + K(M_{eq}, r)], r\\in\\Sigma_M $$\n",
    "\n",
    "Уравнение на поверхности $\\Sigma_R$ : $$ n\\times[-\\eta_0L(J_{eq},r)+K(M_{eq},r)]=-\\frac{1}{2}M_{eq}(r), r\\in \\Sigma_R$$\n",
    "\n",
    "где $L(\\cdot)$ и $M(\\cdot)$ соответствующие операторы интегрального представления электрического поля:\n",
    "$$ L(J_{eq}, r)=\\int_\\Sigma \\{\\nabla \\nabla'[J_{eq}G(r,r')]+k^2 J_{eq}G(r,r')\\}dS' $$\n",
    "$$ K(M_{eq}, r)=\\int_\\Sigma\\{M_{eq}\\times\\nabla'G(r,r')\\}dS'$$\n",
    "\n",
    "\n",
    "\n",
    "Используя базисные функции RWG - $f_n$, искомые токи представим в виде $J_{eq} = \\sum_{n=1}^N C_n^J f_n$ и $M_{eq} = \\sum_{n=1}^N C_n^M f_n$. Применяя метод Галеркина, получим систему уравнений:\n",
    "$$\\begin{bmatrix}\n",
    "-L_{MR}&\\space\\space -K_{MR} \\\\\n",
    "-L_{RR}&\\space\\space K_{RR}+0.5I_{RR}\n",
    "\\end{bmatrix} \n",
    "\\begin{bmatrix}\n",
    "C^J\\\\\n",
    "C^M\n",
    "\\end{bmatrix}=\n",
    "\\begin{bmatrix}\n",
    "E_m\\\\\n",
    "0\n",
    "\\end{bmatrix}\n",
    "\\hspace{3cm} [1]$$\n",
    "где $E_m$ измерения дальнего поля, индексы блоков означают проекции операторов на соответствующие пространства: SR - RWG на пространство измерений, RR - RWG на пространство тестовых функций"
   ]
  },
  {
   "cell_type": "markdown",
   "metadata": {},
   "source": [
    "$${\\bf Постановка\\spaceзадачи}$$"
   ]
  },
  {
   "cell_type": "markdown",
   "metadata": {},
   "source": [
    "Имеется измерения дальнего поля антенны на сфере радиусом 1 км на частоте $0.7$ GHz. Требуется восстановить поле, излучаемое данной антенной на сфере радиусом 1 м.\n",
    "\n",
    "Для дискретизации поставленной задачи используется BEMPP (https://bempp.com/handbook/api/boundary_operators.html). Здесь есть все необходимые операторы и базисные функции.\n",
    "Обратим внимание, что количество измерений не совпадает с количеством ребер на сетке, заданной на поверхности, где требуется восстановление. Тогда для нахождения обратной матрицы системы воспользуемся методом наименьших квадратов, а для улучшения обусловленности матрицы - регуляризацией Тихонова.\n",
    "Полученные коэффициенты - коэффициенты разложения искомых токов по базисным функциям: $J_{eq_n} = \\sum_n C_n f_n$, следовательно восстановить поле можно по формуле: $ E_t = M_{eq}\\times n$\n",
    "\n",
    "(https://bempp-cl.readthedocs.io/en/latest/docs/bempp/api/)"
   ]
  },
  {
   "cell_type": "markdown",
   "metadata": {},
   "source": [
    "Для начала работы установите следующие пакеты:"
   ]
  },
  {
   "cell_type": "code",
   "execution_count": 118,
   "metadata": {},
   "outputs": [],
   "source": [
    "import numpy as np\n",
    "import matplotlib.pyplot as plt\n",
    "import bempp.api\n",
    "import matplotlib as mpl\n",
    "import plotly.figure_factory as ff\n",
    "import plotly.graph_objects as go\n",
    "from bempp.api.operators.potential import maxwell"
   ]
  },
  {
   "cell_type": "markdown",
   "metadata": {},
   "source": [
    "Понадобятся следющие константы:"
   ]
  },
  {
   "cell_type": "code",
   "execution_count": 119,
   "metadata": {},
   "outputs": [],
   "source": [
    "frequency = 0.7 * 10**9 \n",
    "vacuum_permittivity = 8.854187817E-12\n",
    "vacuum_permeability = 4 * np.pi * 1E-7\n",
    "k_ext = 2 * np.pi * frequency * np.sqrt(vacuum_permittivity * vacuum_permeability)\n",
    "wave_length = 2 * np.pi / k_ext"
   ]
  },
  {
   "cell_type": "markdown",
   "metadata": {},
   "source": [
    "Для составления блоков матрицы системы $[1]$ понадобится вспомогательная функция, вычсиляющая блок матрицы, соответствующий потенциальному оператору, по сеточной функции:"
   ]
  },
  {
   "cell_type": "code",
   "execution_count": 120,
   "metadata": {},
   "outputs": [],
   "source": [
    "#  pot_op - потенциальный оператор bempp\n",
    "#  field_mat - матрица, вычсиляемая путем применения оператора к сеточной функции\n",
    "def get_mat(pot_op):\n",
    "    space = pot_op.space\n",
    "    \n",
    "    field_mat = []\n",
    "    for i in range(space.global_dof_count):\n",
    "        coef = np.zeros(space.global_dof_count)\n",
    "        coef[i] = 1\n",
    "        field = pot_op * bempp.api.GridFunction(space, coefficients=coef)\n",
    "        field_vec = field.flatten(order='F')\n",
    "        field_mat.append(field_vec[:, None])\n",
    "        \n",
    "    field_mat = np.hstack(field_mat)\n",
    "    \n",
    "    return field_mat"
   ]
  },
  {
   "cell_type": "markdown",
   "metadata": {},
   "source": [
    "$${\\bf План\\space выполнения}$$\n",
    "Предлагается написать метод, выполняющий восстановление поля на поверхности <span style=\"color:green\">def</span> <span style=\"color:blue\">current_reconstruction</span>(*) $[2]$, принимающий на вход:\n",
    "1. файл с сеткой, файл из измерениями дальнего поля\n",
    "2. волновое число\n",
    "3. параметр для регуляризации,\n",
    "\n",
    "а на выходе:\n",
    "1. координаты центров элементов сетки, на котрой произведено восстановление\n",
    "2. компоненты нормали\n",
    "3. реальная часть компонент поля Е\n",
    "4. мнимая часть компонент поля Е\n"
   ]
  },
  {
   "cell_type": "markdown",
   "metadata": {},
   "source": [
    "Для удобства будем использовать шаблон класса, в котором необходимо дописать некотрые методы:"
   ]
  },
  {
   "cell_type": "code",
   "execution_count": 121,
   "metadata": {},
   "outputs": [],
   "source": [
    "# Шаблон класса и его методы\n",
    "class Current_reconstruction_class:\n",
    "    def __init__(self, wave_number):\n",
    "        self.wave_number = wave_number\n",
    "        self.mtrx = None\n",
    "        self.b = None\n",
    "\n",
    "    # Определение пространств базисных и тестовых функций на сетке, где требуется восстановление:\n",
    "    def set_reconstruction_grid(self, grid):\n",
    "        self.reconstr_grid = grid\n",
    "        self.reconstr_RWG = bempp.api.function_space(self.reconstr_grid, \"RWG\", 0)\n",
    "        self.reconstr_SNC = bempp.api.function_space(self.reconstr_grid, \"SNC\", 0)\n",
    "\n",
    "    # Определение начальных данных: значения известного дальнего поля и точек, в которых оно было измерено:\n",
    "    def set_measured_field(self, points, electric_field):\n",
    "        self.measur_efield = electric_field\n",
    "        self.measur_points = points\n",
    "\n",
    "    # Cборка правой части системы:\n",
    "    def assemble_rhs(self):\n",
    "        RHS = np.concatenate([\n",
    "            self.measur_efield.flatten(order='F'), \n",
    "            np.zeros(self.reconstr_SNC.global_dof_count)\n",
    "        ])\n",
    "        self.rhs = RHS\n",
    "\n",
    "    # Сборка левой части системы $[1]$. Допишите функцию с помощью операторов Bempp:\n",
    "    def assemble_matrix(self, correction=True):\n",
    "        # TODO\n",
    "        L_SR = None\n",
    "        K_SR = None\n",
    "        # L_SR_mat = get_mat(L_SR)\n",
    "        # K_SR_mat = get_mat(K_SR)\n",
    "\n",
    "        # L_RR = maxwell.electric_field(\n",
    "        #     space=self.reconstr_RWG, points=self.reconstr_grid.centroids, wavenumber=self.wave_number\n",
    "        # )\n",
    "        L_RR = None\n",
    "        K_RR = None\n",
    "\n",
    "    # Нахождение решения системы методом наименьших квадратов с регуляризацией Тихонова. Допишите метод.\n",
    "    def reconstruct_currents(self, method=\"Least Squares\", Tikhonov_reg=0.0):\n",
    "        n = self.mtrx.shape[1]\n",
    "\n",
    "        reg_matrix = np.vstack((self.mtrx, Tikhonov_reg * np.eye(n)))\n",
    "        reg_b = np.vstack((self.b, np.zeros(shape=(n, self.b.shape[1]))))\n",
    "\n",
    "        x = np.linalg.lstsq(reg_matrix, reg_b)\n",
    "        return x[0]\n",
    "\n",
    "    # Вычисление тангенциальных составляющих полей. Функция вовзращает центры элементов, нормали,E_t, H_t.\n",
    "    # Допишите метод, используя методы класса GridFunction из Bempp:\n",
    "    def evaluate_tangential_trace_on_element_centers(self):\n",
    "        coeff = np.sqrt(vacuum_permeability / vacuum_permittivity)\n",
    "\n",
    "        # TODO\n",
    "        M_trace = None\n",
    "        E_trace = None\n",
    "        centers = None\n",
    "        normals = None\n",
    "\n",
    "        return centers, normals, E_trace, M_trace\n",
    "\n",
    "    # Метод, использующий внутри себя все описанные выше функции (детали см. в План выполнения).\n",
    "    # В качестве параметра регуляризации возьмите 0.001. Допишите метод:\n",
    "    def current_reconstruction(grid_filename, data_filename, result_filename, k_ext, reg_parameter=1e-3):\n",
    "        # TODO\n",
    "        pass"
   ]
  },
  {
   "cell_type": "markdown",
   "metadata": {},
   "source": [
    "### Create grid"
   ]
  },
  {
   "cell_type": "code",
   "execution_count": 122,
   "metadata": {},
   "outputs": [
    {
     "name": "stdout",
     "output_type": "stream",
     "text": [
      "\n"
     ]
    }
   ],
   "source": [
    "mesh_path = \"Sphere_1m/Sphere_1m_1269edges.msh\"\n",
    "grid = bempp.api.import_grid(mesh_path)"
   ]
  },
  {
   "cell_type": "markdown",
   "metadata": {},
   "source": [
    "### Reconstruction"
   ]
  },
  {
   "cell_type": "code",
   "execution_count": 123,
   "metadata": {},
   "outputs": [],
   "source": [
    "reconstruction = Current_reconstruction_class(k_ext)\n",
    "reconstruction.set_reconstruction_grid(grid)"
   ]
  },
  {
   "cell_type": "markdown",
   "metadata": {},
   "source": [
    "### Test Least Squares with Tikhonov regularization"
   ]
  },
  {
   "cell_type": "code",
   "execution_count": 128,
   "metadata": {},
   "outputs": [
    {
     "name": "stdout",
     "output_type": "stream",
     "text": [
      "test1: x=[[ -2.08616257  -8.20388102  -2.3186534   -5.38100191  -9.54748589]\n",
      " [ -3.07903704 -13.2703974   -2.99146162  -9.3782042  -12.91651499]\n",
      " [ -0.90882834  -5.65254357  -0.73274416  -5.10429409  -7.13967868]\n",
      " [  1.63445779   5.04509719   1.94294858   3.37769777   5.42528771]\n",
      " [  3.97893224  15.01622575   2.89269697  11.32610659  16.34800031]], error=0.32383405888619554\n",
      "test2: x=[[-0.36530301 -0.24564427 -0.01921384 -0.47676107 -0.11296208]\n",
      " [ 1.13131176  0.5506407   1.28678393  0.24700451 -1.05264629]\n",
      " [ 0.70180067  1.0651869   0.17606124  0.03449748  0.24484297]\n",
      " [-0.16231408 -0.31522547 -0.45831887 -0.09140871  1.36091394]\n",
      " [ 0.65839953  0.56411022  0.17020663  0.79798429  0.96653076]], error=0.000849001399842241\n",
      "test3: x=[[ 0.65845401  1.49309173  1.54507082 -2.08374387  1.16812513]\n",
      " [-0.23072851  0.80866421  1.35398663 -5.72272679  0.79723917]\n",
      " [-0.13780868  0.87374943  0.55606846 -3.91800021  0.38475597]\n",
      " [-0.25000369 -1.15277388 -0.77681185  6.03884829 -1.06964119]\n",
      " [ 0.69130944 -0.42225727 -1.06391243  5.17341935 -0.13278559]], error=0.04103720797571845\n",
      "test4: x=[[ 0.1785262  -0.63493066  0.65725605 -0.09776105  0.59831942]\n",
      " [ 1.01900291 -2.46094733  2.76329429 -3.73002245  0.14259938]\n",
      " [ 0.29888501 -0.84102021  0.95336076 -1.99011708  0.29842868]\n",
      " [-0.34537671  1.07983458 -0.80094624  1.89609563 -0.36104113]\n",
      " [-0.40026445  2.41637189 -1.54932932  3.16455724 -0.04437001]], error=0.011356769518598889\n",
      "test5: x=[[ -3.36180141   8.13570339   4.80824702  -7.9963874   -6.40970186]\n",
      " [  0.89767488  -0.83835715  -2.05856393   2.51122301   1.82233549]\n",
      " [  3.0410163   -3.88442524  -3.79576407   5.0842383    5.97219349]\n",
      " [ -7.25446697  13.83878817   9.34109004 -14.38623138 -13.32593135]\n",
      " [  3.90538594  -8.23621488  -3.65741992   8.47612486   6.72749504]], error=0.6130948055006117\n",
      "test6: x=[[-4.32306602e+00 -5.06355960e+00 -1.27888777e+00 -1.17116850e+00\n",
      "  -6.04898966e-01]\n",
      " [-8.29351029e-01  2.15473018e+00  1.02520115e+00 -1.40496020e+00\n",
      "   5.31760388e-01]\n",
      " [ 5.16074582e-02  1.98641512e+00 -5.02350728e-03 -1.32896421e+00\n",
      "   9.37411562e-01]\n",
      " [ 2.07822133e+00  1.37045266e+00 -5.88658784e-03  1.74310901e+00\n",
      "   2.90551792e-01]\n",
      " [ 3.03762996e+00  8.42591560e-01  1.14576336e+00  1.84647044e+00\n",
      "  -1.55249150e-01]], error=0.011067425974820185\n",
      "test7: x=[[-0.1653478   1.93503388  1.17228568  2.8451223  -0.98150113]\n",
      " [-0.35341323 -0.91739604  0.21778548 -0.96549039  1.07726447]\n",
      " [ 0.5513104  -1.48124699 -1.68141336 -1.64854617  0.67585934]\n",
      " [ 0.85451289  1.29974698  0.61944983  0.80238258  0.51438791]\n",
      " [ 1.19325897  0.60920987  0.60371031  1.04624256  0.02645177]], error=0.0032277768450981424\n",
      "test8: x=[[-1.59418035 -1.96825473 -0.0281086   1.06353651  1.35444188]\n",
      " [ 1.02209361  1.09937476  0.01057348 -0.39658088  0.36175237]\n",
      " [ 6.14962813  6.69634559  1.0514634  -1.18278038 -1.5840626 ]\n",
      " [-5.10656066 -5.48037866 -0.39870058  1.96315255  1.1878827 ]\n",
      " [-3.08236196 -3.05428552 -0.32403132  0.01207445  0.23100244]], error=0.02249746336181227\n",
      "test9: x=[[ 1.2429737  -1.06505261 -1.2517746   1.02206039 -0.99374186]\n",
      " [ 1.81637653 -5.18446791 -2.77713036  1.47515338 -6.53441316]\n",
      " [-0.46427853  1.64362374  0.9161409  -1.41354955  0.5004328 ]\n",
      " [-1.7909777   4.81480977  2.66253186 -2.74554874  4.62121789]\n",
      " [ 0.7687414  -0.87927645  0.49576517  3.45346649  1.93755406]], error=0.016100594513504433\n",
      "test10: x=[[-14.42752232  -5.55572722  -0.91030926  -2.71931722  -4.01272139]\n",
      " [ -0.31058713   0.78901747   0.45635051   0.02455967   0.09751882]\n",
      " [ -5.83759804  -1.25228685  -0.24164666  -1.06675017  -0.02536594]\n",
      " [ 13.77755922   5.92981016   1.62468804   3.22277967   3.71822621]\n",
      " [  4.71302499  -0.02218829  -0.18653655   0.64928337   0.58836889]], error=0.08583867941213928\n"
     ]
    },
    {
     "name": "stderr",
     "output_type": "stream",
     "text": [
      "/var/folders/5r/6kgbywtn30b4vz8fkmqqhx2h0000gn/T/ipykernel_93555/837615966.py:48: FutureWarning: `rcond` parameter will change to the default of machine precision times ``max(M, N)`` where M and N are the input matrix dimensions.\n",
      "To use the future default and silence this warning we advise to pass `rcond=None`, to keep using the old, explicitly pass `rcond=-1`.\n",
      "  x = np.linalg.lstsq(reg_matrix, reg_b)\n"
     ]
    }
   ],
   "source": [
    "#   mtrx size\n",
    "n = 5\n",
    "#   tests count\n",
    "count = 10\n",
    "\n",
    "for i in range(1, count + 1, 1):\n",
    "    A = np.random.rand(n, n)\n",
    "    b = np.random.rand(n, n)\n",
    "\n",
    "    reconstruction.mtrx = A\n",
    "    reconstruction.b = b\n",
    "\n",
    "    x = reconstruction.reconstruct_currents(Tikhonov_reg=0.01)\n",
    "    error = np.linalg.norm(A.dot(x) - b)\n",
    "\n",
    "    print(f'test{i}: x={x}, error={error}')"
   ]
  },
  {
   "cell_type": "code",
   "execution_count": 125,
   "metadata": {},
   "outputs": [],
   "source": [
    "# from bempp.api.operators.boundary import maxwell\n",
    "\n",
    "# elec = bempp.api.operators.boundary.maxwell.electric_field(\n",
    "#     reconstruction.reconstr_RWG,\n",
    "#     reconstruction.reconstr_RWG,\n",
    "#     reconstruction.reconstr_SNC,\n",
    "#     k_ext,\n",
    "# )\n",
    "# identity = bempp.api.operators.boundary.sparse.identity(\n",
    "#     reconstruction.reconstr_RWG,\n",
    "#     reconstruction.reconstr_RWG,\n",
    "#     reconstruction.reconstr_SNC,\n",
    "# )\n",
    "\n",
    "# elec.strong_form()\n",
    "\n",
    "# # elec.weak_form()"
   ]
  },
  {
   "cell_type": "markdown",
   "metadata": {},
   "source": [
    "$$\\bf Общая\\spaceструктура \\space работы$$"
   ]
  },
  {
   "cell_type": "markdown",
   "metadata": {},
   "source": [
    "Мы детально разобрали, какие методы понадобятся для решения поставленной задачи. \n",
    "Сетка, на которой требуется восстановить токи - <span style=\"color:green\">\"test_data/test_data/Sphere_R1_1269edges.msh\"</span>, измерения вы найдете в файле - <span style=\"color:green\">\"test_data/Ef_Port1_0_7GHz_Sphere_1km.csv\"</span>, и референсные значения - <span style=\"color:green\">\"test_data/Ef_Port1_0_7GHz_Sphere_1m.csv\"</span>. \n",
    "Итак, подытожим план выполнения практического задания:\n",
    "1. С помощью метода Галеркина составить систему уравнений для восстановления эквивалентных токов $J_{eq_n}, M_{eq}$ по известным измерениям $E_m$\n",
    "2. Используя операторы и пространства в Bempp (https://bempp.com/handbook/api/boundary_operators.html), собрать левую и правую части системы: <span style=\"color:blue\">assemble_matrix</span> , <span style=\"color:blue\">assemble_rhs</span>\n",
    "3. Найти обратную матрицу системы с помощью МНК и регуляризации Тихонова: <span style=\"color:blue\">reconstruct_currents</span>.\n",
    "4. По найденным коэффициентам разложения токов найти тангенциальную составляющую поля $E$ на заданной поверхности: <span style=\"color:blue\">current_reconstruction</span>\n",
    "6. Сравнить полученные результаты с референсом"
   ]
  },
  {
   "cell_type": "code",
   "execution_count": null,
   "metadata": {},
   "outputs": [],
   "source": []
  }
 ],
 "metadata": {
  "kernelspec": {
   "display_name": "base",
   "language": "python",
   "name": "python3"
  },
  "language_info": {
   "codemirror_mode": {
    "name": "ipython",
    "version": 3
   },
   "file_extension": ".py",
   "mimetype": "text/x-python",
   "name": "python",
   "nbconvert_exporter": "python",
   "pygments_lexer": "ipython3",
   "version": "3.12.2"
  }
 },
 "nbformat": 4,
 "nbformat_minor": 4
}
