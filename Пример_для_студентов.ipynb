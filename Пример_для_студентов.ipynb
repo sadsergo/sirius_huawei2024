{
 "cells": [
  {
   "cell_type": "markdown",
   "metadata": {},
   "source": [
    "$${\\bf Восстановление\\spaceполя\\spaceна\\spaceзаданной\\spaceповерхности\\spaceпо\\spaceизмереням\\spaceдальнего\\spaceполя}$$"
   ]
  },
  {
   "cell_type": "markdown",
   "metadata": {},
   "source": [
    "Пусть у нас имеются измерения поля на некоторой поверхности $\\Sigma_M$, а также есть поверхность объема, содержащего внутри себя антенну, $\\Sigma_R$. В этой области имеются неокторые источники токов $J$, $M$, по теорема эквивалентности, поле на поверхности $\\Sigma_R$:$$E(J,M)=E(J_{eq}, M_{eq})$$ а вне ее $$E(J_{eq}, M_{eq})= 0$$\n",
    "Удалим антенну и все источники, тогда задача относительно эквивалентных токов примет следующий вид:\n",
    "\n",
    "Уравнение на поверхности, где произведены измерения $$ n\\times E(r)= n\\times[-\\eta_0 L(J_{eq}, r) + K(M_{eq}, r)], r\\in\\Sigma_M $$\n",
    "\n",
    "Уравнение на поверхности $\\Sigma_R$ : $$ n\\times[-\\eta_0L(J_{eq},r)+K(M_{eq},r)]=-\\frac{1}{2}M_{eq}(r), r\\in \\Sigma_R$$\n",
    "\n",
    "где $L(\\cdot)$ и $M(\\cdot)$ соответствующие операторы интегрального представления электрического поля:\n",
    "$$ L(J_{eq}, r)=\\int_\\Sigma \\{\\nabla \\nabla'[J_{eq}G(r,r')]+k^2 J_{eq}G(r,r')\\}dS' $$\n",
    "$$ K(M_{eq}, r)=\\int_\\Sigma\\{M_{eq}\\times\\nabla'G(r,r')\\}dS'$$\n",
    "\n",
    "\n",
    "\n",
    "Используя базисные функции RWG - $f_n$, искомые токи представим в виде $J_{eq} = \\sum_{n=1}^N C_n^J f_n$ и $M_{eq} = \\sum_{n=1}^N C_n^M f_n$. Применяя метод Галеркина, получим систему уравнений:\n",
    "$$\\begin{bmatrix}\n",
    "-L_{MR}&\\space\\space -K_{MR} \\\\\n",
    "-L_{RR}&\\space\\space K_{RR}+0.5I_{RR}\n",
    "\\end{bmatrix} \n",
    "\\begin{bmatrix}\n",
    "C^J\\\\\n",
    "C^M\n",
    "\\end{bmatrix}=\n",
    "\\begin{bmatrix}\n",
    "E_m\\\\\n",
    "0\n",
    "\\end{bmatrix}\n",
    "\\hspace{3cm} [1]$$\n",
    "где $E_m$ измерения дальнего поля, индексы блоков означают проекции операторов на соответствующие пространства: SR - RWG на пространство измерений, RR - RWG на пространство тестовых функций"
   ]
  },
  {
   "cell_type": "markdown",
   "metadata": {},
   "source": [
    "$${\\bf Постановка\\spaceзадачи}$$"
   ]
  },
  {
   "cell_type": "markdown",
   "metadata": {},
   "source": [
    "Имеется измерения дальнего поля антенны на сфере радиусом 1 км на частоте $0.7$ GHz. Требуется восстановить поле, излучаемое данной антенной на сфере радиусом 1 м.\n",
    "\n",
    "Для дискретизации поставленной задачи используется BEMPP (https://bempp.com/handbook/api/boundary_operators.html). Здесь есть все необходимые операторы и базисные функции.\n",
    "Обратим внимание, что количество измерений не совпадает с количеством ребер на сетке, заданной на поверхности, где требуется восстановление. Тогда для нахождения обратной матрицы системы воспользуемся методом наименьших квадратов, а для улучшения обусловленности матрицы - регуляризацией Тихонова.\n",
    "Полученные коэффициенты - коэффициенты разложения искомых токов по базисным функциям: $J_{eq_n} = \\sum_n C_n f_n$, следовательно восстановить поле можно по формуле: $ E_t = M_{eq}\\times n$\n",
    "\n",
    "(https://bempp-cl.readthedocs.io/en/latest/docs/bempp/api/)"
   ]
  },
  {
   "cell_type": "markdown",
   "metadata": {},
   "source": [
    "Для начала работы установите следующие пакеты:"
   ]
  },
  {
   "cell_type": "code",
   "execution_count": 7,
   "metadata": {},
   "outputs": [],
   "source": [
    "import numpy as np\n",
    "import matplotlib.pyplot as plt\n",
    "import bempp.api\n",
    "import matplotlib as mpl\n",
    "import plotly.figure_factory as ff\n",
    "import plotly.graph_objects as go"
   ]
  },
  {
   "cell_type": "markdown",
   "metadata": {},
   "source": [
    "Понадобятся следющие константы:"
   ]
  },
  {
   "cell_type": "code",
   "execution_count": 8,
   "metadata": {},
   "outputs": [],
   "source": [
    "frequency = 0.7 * 10**9 \n",
    "vacuum_permittivity = 8.854187817E-12\n",
    "vacuum_permeability = 4 * np.pi * 1E-7\n",
    "k_ext = 2 * np.pi * frequency * np.sqrt(vacuum_permittivity * vacuum_permeability)\n",
    "wave_length = 2 * np.pi / k_ext"
   ]
  },
  {
   "cell_type": "markdown",
   "metadata": {},
   "source": [
    "Для составления блоков матрицы системы $[1]$ понадобится вспомогательная функция, вычсиляющая блок матрицы, соответствующий потенциальному оператору, по сеточной функции:"
   ]
  },
  {
   "cell_type": "code",
   "execution_count": 9,
   "metadata": {},
   "outputs": [],
   "source": [
    "#  pot_op - потенциальный оператор bempp\n",
    "#  field_mat - матрица, вычсиляемая путем применения оператора к сеточной функции\n",
    "def get_mat(pot_op):\n",
    "    space = pot_op.space\n",
    "    \n",
    "    field_mat = []\n",
    "    for i in range(space.global_dof_count):\n",
    "        coef = np.zeros(space.global_dof_count)\n",
    "        coef[i] = 1\n",
    "        field = pot_op * bempp.api.GridFunction(space, coefficients=coef)\n",
    "        field_vec = field.flatten(order='F')\n",
    "        field_mat.append(field_vec[:, None])\n",
    "        \n",
    "    field_mat = np.hstack(field_mat)\n",
    "    \n",
    "    return field_mat"
   ]
  },
  {
   "cell_type": "markdown",
   "metadata": {},
   "source": [
    "$${\\bf План\\space выполнения}$$\n",
    "Предлагается написать метод, выполняющий восстановление поля на поверхности <span style=\"color:green\">def</span> <span style=\"color:blue\">current_reconstruction</span>(*) $[2]$, принимающий на вход:\n",
    "1. файл с сеткой, файл из измерениями дальнего поля\n",
    "2. волновое число\n",
    "3. параметр для регуляризации,\n",
    "\n",
    "а на выходе:\n",
    "1. координаты центров элементов сетки, на котрой произведено восстановление\n",
    "2. компоненты нормали\n",
    "3. реальная часть компонент поля Е\n",
    "4. мнимая часть компонент поля Е\n"
   ]
  },
  {
   "cell_type": "markdown",
   "metadata": {},
   "source": [
    "Для удобства будем использовать шаблон класса, в котором необходимо дописать некотрые методы:"
   ]
  },
  {
   "cell_type": "code",
   "execution_count": 10,
   "metadata": {},
   "outputs": [],
   "source": [
    "# Шаблон класса и его методы\n",
    "class Current_reconstruction_class:\n",
    "    def __init__(self, wave_number):\n",
    "        self.wave_number = wave_number\n",
    "\n",
    "    # Определение пространств базисных и тестовых функций на сетке, где требуется восстановление:\n",
    "    def set_reconstruction_grid(self, grid):\n",
    "        self.reconstr_grid = grid\n",
    "        self.reconstr_RWG = bempp.api.function_space(self.reconstr_grid, \"RWG\", 0)\n",
    "        self.reconstr_SNC = bempp.api.function_space(self.reconstr_grid, \"SNC\", 0)\n",
    "\n",
    "    # Определение начальных данных: значения известного дальнего поля и точек, в которых оно было измерено:\n",
    "    def set_measured_field(self, points, electric_field):\n",
    "        self.measur_efield = electric_field\n",
    "        self.measur_points = points\n",
    "\n",
    "    # Cборка правой части системы:\n",
    "    def assemble_rhs(self):\n",
    "        RHS = np.concatenate([\n",
    "            self.measur_efield.flatten(order='F'), \n",
    "            np.zeros(self.reconstr_SNC.global_dof_count)\n",
    "        ])\n",
    "        self.rhs = RHS\n",
    "\n",
    "    # Сборка левой части системы $[1]$. Допишите функцию с помощью операторов Bempp:\n",
    "    def assemble_matrix(self, correction=True):\n",
    "        # TODO\n",
    "        L_SR = None\n",
    "        K_SR = None\n",
    "        L_SR_mat = get_mat(L_SR)\n",
    "        K_SR_mat = get_mat(K_SR)\n",
    "\n",
    "        L_RR =None\n",
    "        K_RR = None\n",
    "\n",
    "    # Нахождение решения системы методом наименьших квадратов с регуляризацией Тихонова. Допишите метод.\n",
    "    def reconstruct_currents(self, method=\"Least Squares\", Tikhonov_reg=0.0):\n",
    "        # TODO\n",
    "        pass\n",
    "    # Вычисление тангенциальных составляющих полей. Функция вовзращает центры элементов, нормали,E_t, H_t.\n",
    "    # Допишите метод, используя методы класса GridFunction из Bempp:\n",
    "    def evaluate_tangential_trace_on_element_centers(self):\n",
    "        coeff = np.sqrt(vacuum_permeability / vacuum_permittivity)\n",
    "\n",
    "        # TODO\n",
    "        M_trace = None\n",
    "        E_trace = None\n",
    "        centers = None\n",
    "        normals = None\n",
    "\n",
    "        return centers, normals, E_trace, M_trace\n",
    "\n",
    "    # Метод, использующий внутри себя все описанные выше функции (детали см. в План выполнения).\n",
    "    # В качестве параметра регуляризации возьмите 0.001. Допишите метод:\n",
    "    def current_reconstruction(grid_filename, data_filename, result_filename, k_ext, reg_parameter=1e-3):\n",
    "        # TODO\n",
    "        pass"
   ]
  },
  {
   "cell_type": "markdown",
   "metadata": {},
   "source": [
    "### Create grid"
   ]
  },
  {
   "cell_type": "code",
   "execution_count": 11,
   "metadata": {},
   "outputs": [
    {
     "name": "stdout",
     "output_type": "stream",
     "text": [
      "\n"
     ]
    }
   ],
   "source": [
    "mesh_path = \"Sphere_1m/Sphere_1m_1269edges.msh\"\n",
    "grid = bempp.api.import_grid(mesh_path)"
   ]
  },
  {
   "cell_type": "markdown",
   "metadata": {},
   "source": [
    "### Reconstruction"
   ]
  },
  {
   "cell_type": "code",
   "execution_count": 14,
   "metadata": {},
   "outputs": [],
   "source": [
    "reconstruction = Current_reconstruction_class(k_ext)\n",
    "reconstruction.set_reconstruction_grid(grid)"
   ]
  },
  {
   "cell_type": "code",
   "execution_count": 13,
   "metadata": {},
   "outputs": [],
   "source": [
    "from bempp.api.operators.boundary import maxwell\n",
    "# electric = maxwell.electric_field(domain, range_, dual, wavenumber)"
   ]
  },
  {
   "cell_type": "markdown",
   "metadata": {},
   "source": [
    "$$\\bf Общая\\spaceструктура \\space работы$$"
   ]
  },
  {
   "cell_type": "markdown",
   "metadata": {},
   "source": [
    "Мы детально разобрали, какие методы понадобятся для решения поставленной задачи. \n",
    "Сетка, на которой требуется восстановить токи - <span style=\"color:green\">\"test_data/test_data/Sphere_R1_1269edges.msh\"</span>, измерения вы найдете в файле - <span style=\"color:green\">\"test_data/Ef_Port1_0_7GHz_Sphere_1km.csv\"</span>, и референсные значения - <span style=\"color:green\">\"test_data/Ef_Port1_0_7GHz_Sphere_1m.csv\"</span>. \n",
    "Итак, подытожим план выполнения практического задания:\n",
    "1. С помощью метода Галеркина составить систему уравнений для восстановления эквивалентных токов $J_{eq_n}, M_{eq}$ по известным измерениям $E_m$\n",
    "2. Используя операторы и пространства в Bempp (https://bempp.com/handbook/api/boundary_operators.html), собрать левую и правую части системы: <span style=\"color:blue\">assemble_matrix</span> , <span style=\"color:blue\">assemble_rhs</span>\n",
    "3. Найти обратную матрицу системы с помощью МНК и регуляризации Тихонова: <span style=\"color:blue\">reconstruct_currents</span>.\n",
    "4. По найденным коэффициентам разложения токов найти тангенциальную составляющую поля $E$ на заданной поверхности: <span style=\"color:blue\">current_reconstruction</span>\n",
    "6. Сравнить полученные результаты с референсом"
   ]
  },
  {
   "cell_type": "code",
   "execution_count": null,
   "metadata": {},
   "outputs": [],
   "source": []
  }
 ],
 "metadata": {
  "kernelspec": {
   "display_name": "base",
   "language": "python",
   "name": "python3"
  },
  "language_info": {
   "codemirror_mode": {
    "name": "ipython",
    "version": 3
   },
   "file_extension": ".py",
   "mimetype": "text/x-python",
   "name": "python",
   "nbconvert_exporter": "python",
   "pygments_lexer": "ipython3",
   "version": "3.12.2"
  }
 },
 "nbformat": 4,
 "nbformat_minor": 4
}
